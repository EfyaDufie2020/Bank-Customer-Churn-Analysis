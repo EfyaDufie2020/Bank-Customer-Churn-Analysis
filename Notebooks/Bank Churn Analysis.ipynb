{
 "cells": [
  {
   "cell_type": "markdown",
   "metadata": {},
   "source": [
    "# Bank Customer Churn Analysis"
   ]
  },
  {
   "cell_type": "markdown",
   "metadata": {},
   "source": [
    "\n",
    "## Business Understanding\n",
    "\n",
    "Banking is a vital sector that provides financial services to individuals and businesses. In this context, customer churn refers to the loss of customers or subscribers due to various factors, such as changes in plans, dissatisfaction with service, or other reasons. By analyzing customer churn data, banks can identify patterns and trends that can help them develop strategies to improve customer retention and reduce customer churn.\n",
    "\n",
    "In this project, I will analyze the customer churn data of a bank. The goal is to identify patterns and trends that can help the bank make informed decisions to improve customer retention and reduce customer churn.\n",
    "\n",
    "\n",
    "\n",
    "\n",
    "## Problem statement\n",
    "\n",
    "The bank has a dataset containing information about clients, including demographic data, credit data, and other relevant factors. The goal is to use this data to develop a predictive model that can accurately predict whether a client will subscribe to a term deposit. The model will be evaluated using appropriate metrics to measure its performance.\n",
    "\n",
    "### Project Goal\n",
    "To address the customer churn problem, I will employ various data analysis techniques which is the CRISP-DM me and machine learning algorithms to develop a predictive model that accurately predicts whether a client will subscribe to a term deposit. The model will be evaluated using appropriate metrics, such as accuracy, precision, recall, and F1-score, to assess its performance.\n",
    "\n",
    "\n",
    "\n",
    "### Stakeholders\n",
    "\n",
    "The stakeholders in this project include:\n",
    "\n",
    "1. Bank: The bank wants to understand its customer churn patterns and develop strategies to improve customer retention.\n",
    "2. Data Scientists: The data scientists will analyze the customer churn data, develop the predictive model, and evaluate its performance.\n",
    "3. Marketing and Sales: The marketing and sales teams will use the predictive model to make data-driven decisions to improve customer engagement and retention.\n",
    "\n",
    "\n",
    "### Features\n",
    "\n",
    "The dataset contains the following features:\n",
    "\n",
    "1. Customer ID: Unique identifier for each client.\n",
    "2. Sex: Gender of the client (male/female).\n",
    "3. Age: Age of the client.\n",
    "\n",
    "\n",
    "### Hypothesis\n",
    "\n",
    "The hypothesis is that the predictive model developed will have a high accuracy and precision, indicating that it can accurately predict whether a client will subscribe to a term deposit.\n",
    "\n",
    "Null hypothesis:\n",
    "\n",
    "H0: The predictive model developed will have a low accuracy or precision.\n",
    "\n",
    "Alternative Hypothesis:\n",
    "\n",
    "H1: The predictive model developed will have a high accuracy or precision.\n",
    "\n",
    "\n",
    "\n",
    "\n",
    "\n",
    "### Analytcal Questions \n",
    "\n",
    "To answer the above questions, I will perform the following steps:\n",
    "\n",
    "1. Data Exploration: Load the customer churn dataset, perform exploratory data analysis (EDA) to understand the data, identify missing values, and examine the distribution of the target variable (customer churn).\n",
    "2. Data Preprocessing: Handle missing values, handle categorical variables, and perform any necessary data preprocessing steps such as scaling or encoding.\n",
    "3. Feature Selection: Select relevant features that contribute to the target variable.\n",
    "\n",
    "\n",
    "\n",
    "\n"
   ]
  },
  {
   "cell_type": "markdown",
   "metadata": {},
   "source": [
    "## Data Understanding & Preparation\n",
    "\n",
    "\n",
    "Importing all the relevant libraries"
   ]
  },
  {
   "cell_type": "code",
   "execution_count": 2,
   "metadata": {},
   "outputs": [],
   "source": [
    "import pandas as pd\n",
    "import numpy as np\n",
    "import matplotlib.pyplot as plt\n",
    "import seaborn as sns\n",
    "from sklearn.model_selection import train_test_split\n",
    "from sklearn.preprocessing import StandardScaler\n",
    "from sklearn.ensemble import RandomForestClassifier\n",
    "from sklearn.metrics import accuracy_score, precision_score, recall_score, f1_score, confusion_matrix\n",
    "from imblearn.over_sampling import SMOTE\n",
    "import warnings\n",
    "warnings.filterwarnings('ignore')\n",
    "\n"
   ]
  }
 ],
 "metadata": {
  "kernelspec": {
   "display_name": "venv",
   "language": "python",
   "name": "python3"
  },
  "language_info": {
   "codemirror_mode": {
    "name": "ipython",
    "version": 3
   },
   "file_extension": ".py",
   "mimetype": "text/x-python",
   "name": "python",
   "nbconvert_exporter": "python",
   "pygments_lexer": "ipython3",
   "version": "3.13.0"
  }
 },
 "nbformat": 4,
 "nbformat_minor": 2
}
